{
 "cells": [
  {
   "cell_type": "markdown",
   "metadata": {},
   "source": [
    "# Python code for Churn Reduction"
   ]
  },
  {
   "cell_type": "code",
   "execution_count": null,
   "metadata": {
    "collapsed": true
   },
   "outputs": [],
   "source": [
    "# Load libraries\n",
    "import os\n",
    "import pandas as pd\n",
    "import numpy as np\n",
    "from fancyimpute import KNN\n",
    "import matplotlib.pyplot as plt\n",
    "from scipy.stats import chi2_contingency\n",
    "import seaborn as sns\n",
    "from random import randrange, uniform"
   ]
  },
  {
   "cell_type": "code",
   "execution_count": 2,
   "metadata": {
    "collapsed": true
   },
   "outputs": [],
   "source": [
    "#Setting path\n",
    "os.chdir(\"E:/1ST SEM/eng/edwisor_assignments/8.project 2\")\n"
   ]
  },
  {
   "cell_type": "markdown",
   "metadata": {},
   "source": [
    "# Loading data"
   ]
  },
  {
   "cell_type": "code",
   "execution_count": 3,
   "metadata": {
    "collapsed": true
   },
   "outputs": [],
   "source": [
    "#loading train and test data\n",
    "df_train = pd.read_csv(\"Train_data.csv\")\n",
    "df_test = pd.read_csv(\"Test_data.csv\")"
   ]
  },
  {
   "cell_type": "code",
   "execution_count": 4,
   "metadata": {
    "collapsed": true
   },
   "outputs": [],
   "source": [
    "cnames = [\"account length\",\"area code\",\"number vmail messages\",\"total day minutes\",\"total day calls\",\"total day charge\",\n",
    "\"total eve minutes\",\"total eve calls\",\"total eve charge\",\"total night minutes\",\"total night calls\",\n",
    "\"total night charge\",\"total intl minutes\",\"total intl calls\", \"total intl charge\",\n",
    "\"number customer service calls\"]\n"
   ]
  },
  {
   "cell_type": "markdown",
   "metadata": {},
   "source": [
    "# Outlier Analysis"
   ]
  },
  {
   "cell_type": "code",
   "execution_count": 5,
   "metadata": {
    "collapsed": true
   },
   "outputs": [],
   "source": [
    "d1=df_train[cnames]\n",
    "d2=df_test[cnames]"
   ]
  },
  {
   "cell_type": "code",
   "execution_count": null,
   "metadata": {
    "collapsed": true
   },
   "outputs": [],
   "source": []
  },
  {
   "cell_type": "code",
   "execution_count": 6,
   "metadata": {},
   "outputs": [
    {
     "name": "stderr",
     "output_type": "stream",
     "text": [
      "C:\\Users\\HP\\it\\lib\\site-packages\\pandas\\core\\indexing.py:517: SettingWithCopyWarning: \n",
      "A value is trying to be set on a copy of a slice from a DataFrame.\n",
      "Try using .loc[row_indexer,col_indexer] = value instead\n",
      "\n",
      "See the caveats in the documentation: http://pandas.pydata.org/pandas-docs/stable/indexing.html#indexing-view-versus-copy\n",
      "  self.obj[item] = s\n",
      "C:\\Users\\HP\\it\\lib\\site-packages\\pandas\\core\\indexing.py:179: SettingWithCopyWarning: \n",
      "A value is trying to be set on a copy of a slice from a DataFrame\n",
      "\n",
      "See the caveats in the documentation: http://pandas.pydata.org/pandas-docs/stable/indexing.html#indexing-view-versus-copy\n",
      "  self._setitem_with_indexer(indexer, value)\n",
      "C:\\Users\\HP\\it\\lib\\site-packages\\ipykernel_launcher.py:15: SettingWithCopyWarning: \n",
      "A value is trying to be set on a copy of a slice from a DataFrame\n",
      "\n",
      "See the caveats in the documentation: http://pandas.pydata.org/pandas-docs/stable/indexing.html#indexing-view-versus-copy\n",
      "  from ipykernel import kernelapp as app\n"
     ]
    }
   ],
   "source": [
    "for i in cnames:\n",
    "    #Detect and replace with NA\n",
    "    #Extract quartiles\n",
    "    q75, q25 = np.percentile(d1.loc[:,i], [75 ,25])\n",
    "\n",
    "    #Calculate IQR\n",
    "    iqr = q75 - q25\n",
    "\n",
    "    #Calculate inner and outer fence\n",
    "    mini = q25 - (iqr*1.5)\n",
    "    maxi = q75 + (iqr*1.5)\n",
    "\n",
    "    #Replace with NA\n",
    "    d1.loc[d1.loc[:,i] < mini,:i] = np.nan\n",
    "    d1.loc[d1.loc[:,i] > maxi,:i] = np.nan\n",
    "    # df_train[\"state\"]=NULL\n",
    "    #impute with median\n",
    "    #d1[:,i]=d1[:,i].fillna(d1[:,i].median())"
   ]
  },
  {
   "cell_type": "code",
   "execution_count": 7,
   "metadata": {},
   "outputs": [
    {
     "name": "stderr",
     "output_type": "stream",
     "text": [
      "C:\\Users\\HP\\it\\lib\\site-packages\\pandas\\core\\indexing.py:517: SettingWithCopyWarning: \n",
      "A value is trying to be set on a copy of a slice from a DataFrame.\n",
      "Try using .loc[row_indexer,col_indexer] = value instead\n",
      "\n",
      "See the caveats in the documentation: http://pandas.pydata.org/pandas-docs/stable/indexing.html#indexing-view-versus-copy\n",
      "  self.obj[item] = s\n",
      "C:\\Users\\HP\\it\\lib\\site-packages\\pandas\\core\\indexing.py:179: SettingWithCopyWarning: \n",
      "A value is trying to be set on a copy of a slice from a DataFrame\n",
      "\n",
      "See the caveats in the documentation: http://pandas.pydata.org/pandas-docs/stable/indexing.html#indexing-view-versus-copy\n",
      "  self._setitem_with_indexer(indexer, value)\n",
      "C:\\Users\\HP\\it\\lib\\site-packages\\ipykernel_launcher.py:15: SettingWithCopyWarning: \n",
      "A value is trying to be set on a copy of a slice from a DataFrame\n",
      "\n",
      "See the caveats in the documentation: http://pandas.pydata.org/pandas-docs/stable/indexing.html#indexing-view-versus-copy\n",
      "  from ipykernel import kernelapp as app\n"
     ]
    }
   ],
   "source": [
    "for i in cnames:\n",
    "    #Detect and replace with NA\n",
    "    #Extract quartiles\n",
    "    q75, q25 = np.percentile(d2.loc[:,i], [75 ,25])\n",
    "\n",
    "    #Calculate IQR\n",
    "    iqr = q75 - q25\n",
    "\n",
    "    #Calculate inner and outer fence\n",
    "    mini = q25 - (iqr*1.5)\n",
    "    maxi = q75 + (iqr*1.5)\n",
    "\n",
    "    #Replace with NA\n",
    "    d2.loc[d2.loc[:,i] < mini,:i] = np.nan\n",
    "    d2.loc[d2.loc[:,i] > maxi,:i] = np.nan\n",
    "    # df_train[\"state\"]=NULL\n",
    "    #impute with median\n",
    "    #d1[:,i]=d1[:,i].fillna(d1[:,i].median())"
   ]
  },
  {
   "cell_type": "markdown",
   "metadata": {},
   "source": [
    "### MIssing value imputation after outlier analysis"
   ]
  },
  {
   "cell_type": "code",
   "execution_count": 8,
   "metadata": {
    "collapsed": true
   },
   "outputs": [],
   "source": [
    "d1=d1.apply(lambda x:x.fillna(x.median()),axis=0)\n",
    "d2=d2.apply(lambda x:x.fillna(x.median()),axis=0)"
   ]
  },
  {
   "cell_type": "code",
   "execution_count": 9,
   "metadata": {
    "collapsed": true
   },
   "outputs": [],
   "source": [
    "d1[\"international plan\"]=df_train[\"international plan\"]\n",
    "d1[\"voice mail plan\"]=df_train[\"voice mail plan\"]\n",
    "d1[\"churn\"]=df_train[\"Churn\"]\n",
    "\n",
    "d2[\"international plan\"]=df_test[\"international plan\"]\n",
    "d2[\"voice mail plan\"]=df_test[\"voice mail plan\"]\n",
    "d2[\"churn\"]=df_test[\"Churn\"]"
   ]
  },
  {
   "cell_type": "code",
   "execution_count": 10,
   "metadata": {},
   "outputs": [
    {
     "data": {
      "text/html": [
       "<div>\n",
       "<style>\n",
       "    .dataframe thead tr:only-child th {\n",
       "        text-align: right;\n",
       "    }\n",
       "\n",
       "    .dataframe thead th {\n",
       "        text-align: left;\n",
       "    }\n",
       "\n",
       "    .dataframe tbody tr th {\n",
       "        vertical-align: top;\n",
       "    }\n",
       "</style>\n",
       "<table border=\"1\" class=\"dataframe\">\n",
       "  <thead>\n",
       "    <tr style=\"text-align: right;\">\n",
       "      <th></th>\n",
       "      <th>account length</th>\n",
       "      <th>area code</th>\n",
       "      <th>number vmail messages</th>\n",
       "      <th>total day minutes</th>\n",
       "      <th>total day calls</th>\n",
       "      <th>total day charge</th>\n",
       "      <th>total eve minutes</th>\n",
       "      <th>total eve calls</th>\n",
       "      <th>total eve charge</th>\n",
       "      <th>total night minutes</th>\n",
       "      <th>total night calls</th>\n",
       "      <th>total night charge</th>\n",
       "      <th>total intl minutes</th>\n",
       "      <th>total intl calls</th>\n",
       "      <th>total intl charge</th>\n",
       "      <th>number customer service calls</th>\n",
       "      <th>international plan</th>\n",
       "      <th>voice mail plan</th>\n",
       "      <th>churn</th>\n",
       "    </tr>\n",
       "  </thead>\n",
       "  <tbody>\n",
       "    <tr>\n",
       "      <th>0</th>\n",
       "      <td>99.0</td>\n",
       "      <td>415.0</td>\n",
       "      <td>0.0</td>\n",
       "      <td>70.9</td>\n",
       "      <td>123.0</td>\n",
       "      <td>12.050</td>\n",
       "      <td>211.9</td>\n",
       "      <td>73.0</td>\n",
       "      <td>18.01</td>\n",
       "      <td>236.0</td>\n",
       "      <td>73.0</td>\n",
       "      <td>10.62</td>\n",
       "      <td>10.6</td>\n",
       "      <td>3.0</td>\n",
       "      <td>2.86</td>\n",
       "      <td>3.0</td>\n",
       "      <td>0</td>\n",
       "      <td>0</td>\n",
       "      <td>0</td>\n",
       "    </tr>\n",
       "    <tr>\n",
       "      <th>1</th>\n",
       "      <td>99.0</td>\n",
       "      <td>415.0</td>\n",
       "      <td>0.0</td>\n",
       "      <td>223.6</td>\n",
       "      <td>86.0</td>\n",
       "      <td>38.010</td>\n",
       "      <td>244.8</td>\n",
       "      <td>139.0</td>\n",
       "      <td>20.81</td>\n",
       "      <td>94.2</td>\n",
       "      <td>81.0</td>\n",
       "      <td>4.24</td>\n",
       "      <td>9.5</td>\n",
       "      <td>7.0</td>\n",
       "      <td>2.57</td>\n",
       "      <td>0.0</td>\n",
       "      <td>0</td>\n",
       "      <td>0</td>\n",
       "      <td>0</td>\n",
       "    </tr>\n",
       "    <tr>\n",
       "      <th>2</th>\n",
       "      <td>99.0</td>\n",
       "      <td>415.0</td>\n",
       "      <td>0.0</td>\n",
       "      <td>294.7</td>\n",
       "      <td>95.0</td>\n",
       "      <td>50.100</td>\n",
       "      <td>237.3</td>\n",
       "      <td>105.0</td>\n",
       "      <td>20.17</td>\n",
       "      <td>300.3</td>\n",
       "      <td>127.0</td>\n",
       "      <td>13.51</td>\n",
       "      <td>13.7</td>\n",
       "      <td>6.0</td>\n",
       "      <td>3.70</td>\n",
       "      <td>1.0</td>\n",
       "      <td>0</td>\n",
       "      <td>1</td>\n",
       "      <td>0</td>\n",
       "    </tr>\n",
       "    <tr>\n",
       "      <th>3</th>\n",
       "      <td>99.0</td>\n",
       "      <td>415.0</td>\n",
       "      <td>0.0</td>\n",
       "      <td>216.8</td>\n",
       "      <td>123.0</td>\n",
       "      <td>36.860</td>\n",
       "      <td>126.4</td>\n",
       "      <td>88.0</td>\n",
       "      <td>10.74</td>\n",
       "      <td>220.6</td>\n",
       "      <td>82.0</td>\n",
       "      <td>9.93</td>\n",
       "      <td>15.7</td>\n",
       "      <td>2.0</td>\n",
       "      <td>4.24</td>\n",
       "      <td>1.0</td>\n",
       "      <td>0</td>\n",
       "      <td>0</td>\n",
       "      <td>0</td>\n",
       "    </tr>\n",
       "    <tr>\n",
       "      <th>4</th>\n",
       "      <td>108.0</td>\n",
       "      <td>415.0</td>\n",
       "      <td>0.0</td>\n",
       "      <td>197.4</td>\n",
       "      <td>78.0</td>\n",
       "      <td>33.560</td>\n",
       "      <td>124.0</td>\n",
       "      <td>101.0</td>\n",
       "      <td>10.54</td>\n",
       "      <td>204.5</td>\n",
       "      <td>107.0</td>\n",
       "      <td>9.20</td>\n",
       "      <td>7.7</td>\n",
       "      <td>4.0</td>\n",
       "      <td>2.08</td>\n",
       "      <td>2.0</td>\n",
       "      <td>0</td>\n",
       "      <td>0</td>\n",
       "      <td>0</td>\n",
       "    </tr>\n",
       "    <tr>\n",
       "      <th>5</th>\n",
       "      <td>117.0</td>\n",
       "      <td>415.0</td>\n",
       "      <td>0.0</td>\n",
       "      <td>226.5</td>\n",
       "      <td>85.0</td>\n",
       "      <td>38.510</td>\n",
       "      <td>141.6</td>\n",
       "      <td>68.0</td>\n",
       "      <td>12.04</td>\n",
       "      <td>223.0</td>\n",
       "      <td>90.0</td>\n",
       "      <td>10.04</td>\n",
       "      <td>6.9</td>\n",
       "      <td>5.0</td>\n",
       "      <td>1.86</td>\n",
       "      <td>1.0</td>\n",
       "      <td>0</td>\n",
       "      <td>0</td>\n",
       "      <td>0</td>\n",
       "    </tr>\n",
       "    <tr>\n",
       "      <th>6</th>\n",
       "      <td>99.0</td>\n",
       "      <td>415.0</td>\n",
       "      <td>0.0</td>\n",
       "      <td>218.9</td>\n",
       "      <td>124.0</td>\n",
       "      <td>37.210</td>\n",
       "      <td>214.3</td>\n",
       "      <td>125.0</td>\n",
       "      <td>18.22</td>\n",
       "      <td>260.3</td>\n",
       "      <td>120.0</td>\n",
       "      <td>11.71</td>\n",
       "      <td>12.9</td>\n",
       "      <td>3.0</td>\n",
       "      <td>3.48</td>\n",
       "      <td>1.0</td>\n",
       "      <td>0</td>\n",
       "      <td>1</td>\n",
       "      <td>0</td>\n",
       "    </tr>\n",
       "    <tr>\n",
       "      <th>7</th>\n",
       "      <td>94.0</td>\n",
       "      <td>408.0</td>\n",
       "      <td>0.0</td>\n",
       "      <td>157.5</td>\n",
       "      <td>97.0</td>\n",
       "      <td>26.780</td>\n",
       "      <td>224.5</td>\n",
       "      <td>112.0</td>\n",
       "      <td>19.08</td>\n",
       "      <td>310.8</td>\n",
       "      <td>106.0</td>\n",
       "      <td>13.99</td>\n",
       "      <td>11.1</td>\n",
       "      <td>6.0</td>\n",
       "      <td>3.00</td>\n",
       "      <td>0.0</td>\n",
       "      <td>0</td>\n",
       "      <td>0</td>\n",
       "      <td>0</td>\n",
       "    </tr>\n",
       "    <tr>\n",
       "      <th>8</th>\n",
       "      <td>99.0</td>\n",
       "      <td>415.0</td>\n",
       "      <td>0.0</td>\n",
       "      <td>179.8</td>\n",
       "      <td>99.0</td>\n",
       "      <td>30.575</td>\n",
       "      <td>200.4</td>\n",
       "      <td>101.0</td>\n",
       "      <td>10.78</td>\n",
       "      <td>190.5</td>\n",
       "      <td>71.0</td>\n",
       "      <td>8.57</td>\n",
       "      <td>9.9</td>\n",
       "      <td>4.0</td>\n",
       "      <td>2.67</td>\n",
       "      <td>2.0</td>\n",
       "      <td>0</td>\n",
       "      <td>0</td>\n",
       "      <td>0</td>\n",
       "    </tr>\n",
       "    <tr>\n",
       "      <th>9</th>\n",
       "      <td>99.0</td>\n",
       "      <td>415.0</td>\n",
       "      <td>0.0</td>\n",
       "      <td>177.8</td>\n",
       "      <td>100.0</td>\n",
       "      <td>30.230</td>\n",
       "      <td>147.3</td>\n",
       "      <td>89.0</td>\n",
       "      <td>12.52</td>\n",
       "      <td>194.2</td>\n",
       "      <td>92.0</td>\n",
       "      <td>8.74</td>\n",
       "      <td>11.9</td>\n",
       "      <td>1.0</td>\n",
       "      <td>3.21</td>\n",
       "      <td>0.0</td>\n",
       "      <td>0</td>\n",
       "      <td>1</td>\n",
       "      <td>0</td>\n",
       "    </tr>\n",
       "  </tbody>\n",
       "</table>\n",
       "</div>"
      ],
      "text/plain": [
       "   account length  area code  number vmail messages  total day minutes  \\\n",
       "0            99.0      415.0                    0.0               70.9   \n",
       "1            99.0      415.0                    0.0              223.6   \n",
       "2            99.0      415.0                    0.0              294.7   \n",
       "3            99.0      415.0                    0.0              216.8   \n",
       "4           108.0      415.0                    0.0              197.4   \n",
       "5           117.0      415.0                    0.0              226.5   \n",
       "6            99.0      415.0                    0.0              218.9   \n",
       "7            94.0      408.0                    0.0              157.5   \n",
       "8            99.0      415.0                    0.0              179.8   \n",
       "9            99.0      415.0                    0.0              177.8   \n",
       "\n",
       "   total day calls  total day charge  total eve minutes  total eve calls  \\\n",
       "0            123.0            12.050              211.9             73.0   \n",
       "1             86.0            38.010              244.8            139.0   \n",
       "2             95.0            50.100              237.3            105.0   \n",
       "3            123.0            36.860              126.4             88.0   \n",
       "4             78.0            33.560              124.0            101.0   \n",
       "5             85.0            38.510              141.6             68.0   \n",
       "6            124.0            37.210              214.3            125.0   \n",
       "7             97.0            26.780              224.5            112.0   \n",
       "8             99.0            30.575              200.4            101.0   \n",
       "9            100.0            30.230              147.3             89.0   \n",
       "\n",
       "   total eve charge  total night minutes  total night calls  \\\n",
       "0             18.01                236.0               73.0   \n",
       "1             20.81                 94.2               81.0   \n",
       "2             20.17                300.3              127.0   \n",
       "3             10.74                220.6               82.0   \n",
       "4             10.54                204.5              107.0   \n",
       "5             12.04                223.0               90.0   \n",
       "6             18.22                260.3              120.0   \n",
       "7             19.08                310.8              106.0   \n",
       "8             10.78                190.5               71.0   \n",
       "9             12.52                194.2               92.0   \n",
       "\n",
       "   total night charge  total intl minutes  total intl calls  \\\n",
       "0               10.62                10.6               3.0   \n",
       "1                4.24                 9.5               7.0   \n",
       "2               13.51                13.7               6.0   \n",
       "3                9.93                15.7               2.0   \n",
       "4                9.20                 7.7               4.0   \n",
       "5               10.04                 6.9               5.0   \n",
       "6               11.71                12.9               3.0   \n",
       "7               13.99                11.1               6.0   \n",
       "8                8.57                 9.9               4.0   \n",
       "9                8.74                11.9               1.0   \n",
       "\n",
       "   total intl charge  number customer service calls  international plan  \\\n",
       "0               2.86                            3.0                   0   \n",
       "1               2.57                            0.0                   0   \n",
       "2               3.70                            1.0                   0   \n",
       "3               4.24                            1.0                   0   \n",
       "4               2.08                            2.0                   0   \n",
       "5               1.86                            1.0                   0   \n",
       "6               3.48                            1.0                   0   \n",
       "7               3.00                            0.0                   0   \n",
       "8               2.67                            2.0                   0   \n",
       "9               3.21                            0.0                   0   \n",
       "\n",
       "   voice mail plan  churn  \n",
       "0                0      0  \n",
       "1                0      0  \n",
       "2                1      0  \n",
       "3                0      0  \n",
       "4                0      0  \n",
       "5                0      0  \n",
       "6                1      0  \n",
       "7                0      0  \n",
       "8                0      0  \n",
       "9                1      0  "
      ]
     },
     "execution_count": 10,
     "metadata": {},
     "output_type": "execute_result"
    }
   ],
   "source": [
    "#assigning levels to categorical varibales\n",
    "for i in range(0, d1.shape[1]):\n",
    "    if(d1.iloc[:,i].dtypes == 'object'):\n",
    "        d1.iloc[:,i] = pd.Categorical(d1.iloc[:,i])\n",
    "        d1.iloc[:,i] = d1.iloc[:,i].cat.codes\n",
    "\n",
    "for i in range(0, d2.shape[1]):\n",
    "    if(d2.iloc[:,i].dtypes == 'object'):\n",
    "        d2.iloc[:,i] = pd.Categorical(d2.iloc[:,i])\n",
    "        d2.iloc[:,i] = d2.iloc[:,i].cat.codes\n",
    "\n",
    "d2.head(10)"
   ]
  },
  {
   "cell_type": "code",
   "execution_count": 11,
   "metadata": {
    "collapsed": true
   },
   "outputs": [],
   "source": [
    "#storing target variable\n",
    "train_targets = d1.churn\n",
    "test_targets = d2.churn\n"
   ]
  },
  {
   "cell_type": "code",
   "execution_count": 12,
   "metadata": {},
   "outputs": [
    {
     "name": "stdout",
     "output_type": "stream",
     "text": [
      "(5000, 19) (3333, 19) (1667, 19)\n"
     ]
    }
   ],
   "source": [
    "#combining train and test data for data prepocessing\n",
    "combined = d1.append(d2)\n",
    "\n",
    "print(combined.shape, d1.shape, d2.shape)\n"
   ]
  },
  {
   "cell_type": "code",
   "execution_count": 13,
   "metadata": {},
   "outputs": [
    {
     "data": {
      "text/html": [
       "<div>\n",
       "<style>\n",
       "    .dataframe thead tr:only-child th {\n",
       "        text-align: right;\n",
       "    }\n",
       "\n",
       "    .dataframe thead th {\n",
       "        text-align: left;\n",
       "    }\n",
       "\n",
       "    .dataframe tbody tr th {\n",
       "        vertical-align: top;\n",
       "    }\n",
       "</style>\n",
       "<table border=\"1\" class=\"dataframe\">\n",
       "  <thead>\n",
       "    <tr style=\"text-align: right;\">\n",
       "      <th></th>\n",
       "      <th>account length</th>\n",
       "      <th>area code</th>\n",
       "      <th>number vmail messages</th>\n",
       "      <th>total day minutes</th>\n",
       "      <th>total day calls</th>\n",
       "      <th>total day charge</th>\n",
       "      <th>total eve minutes</th>\n",
       "      <th>total eve calls</th>\n",
       "      <th>total eve charge</th>\n",
       "      <th>total night minutes</th>\n",
       "      <th>total night calls</th>\n",
       "      <th>total night charge</th>\n",
       "      <th>total intl minutes</th>\n",
       "      <th>total intl calls</th>\n",
       "      <th>total intl charge</th>\n",
       "      <th>number customer service calls</th>\n",
       "      <th>international plan</th>\n",
       "      <th>voice mail plan</th>\n",
       "      <th>churn</th>\n",
       "    </tr>\n",
       "  </thead>\n",
       "  <tbody>\n",
       "    <tr>\n",
       "      <th>0</th>\n",
       "      <td>128.0</td>\n",
       "      <td>415.0</td>\n",
       "      <td>25.0</td>\n",
       "      <td>265.1</td>\n",
       "      <td>110.0</td>\n",
       "      <td>45.07</td>\n",
       "      <td>197.4</td>\n",
       "      <td>99.0</td>\n",
       "      <td>16.78</td>\n",
       "      <td>244.7</td>\n",
       "      <td>91.0</td>\n",
       "      <td>11.01</td>\n",
       "      <td>10.0</td>\n",
       "      <td>3.0</td>\n",
       "      <td>2.70</td>\n",
       "      <td>1.0</td>\n",
       "      <td>0</td>\n",
       "      <td>1</td>\n",
       "      <td>0</td>\n",
       "    </tr>\n",
       "    <tr>\n",
       "      <th>1</th>\n",
       "      <td>107.0</td>\n",
       "      <td>415.0</td>\n",
       "      <td>26.0</td>\n",
       "      <td>161.6</td>\n",
       "      <td>123.0</td>\n",
       "      <td>27.47</td>\n",
       "      <td>195.5</td>\n",
       "      <td>103.0</td>\n",
       "      <td>16.62</td>\n",
       "      <td>254.4</td>\n",
       "      <td>103.0</td>\n",
       "      <td>11.45</td>\n",
       "      <td>13.7</td>\n",
       "      <td>3.0</td>\n",
       "      <td>3.70</td>\n",
       "      <td>1.0</td>\n",
       "      <td>0</td>\n",
       "      <td>1</td>\n",
       "      <td>0</td>\n",
       "    </tr>\n",
       "    <tr>\n",
       "      <th>2</th>\n",
       "      <td>137.0</td>\n",
       "      <td>415.0</td>\n",
       "      <td>0.0</td>\n",
       "      <td>243.4</td>\n",
       "      <td>114.0</td>\n",
       "      <td>41.38</td>\n",
       "      <td>121.2</td>\n",
       "      <td>110.0</td>\n",
       "      <td>10.30</td>\n",
       "      <td>162.6</td>\n",
       "      <td>104.0</td>\n",
       "      <td>7.32</td>\n",
       "      <td>12.2</td>\n",
       "      <td>5.0</td>\n",
       "      <td>3.29</td>\n",
       "      <td>0.0</td>\n",
       "      <td>0</td>\n",
       "      <td>0</td>\n",
       "      <td>0</td>\n",
       "    </tr>\n",
       "    <tr>\n",
       "      <th>3</th>\n",
       "      <td>100.0</td>\n",
       "      <td>415.0</td>\n",
       "      <td>0.0</td>\n",
       "      <td>179.6</td>\n",
       "      <td>101.0</td>\n",
       "      <td>30.56</td>\n",
       "      <td>201.0</td>\n",
       "      <td>100.0</td>\n",
       "      <td>17.09</td>\n",
       "      <td>196.9</td>\n",
       "      <td>89.0</td>\n",
       "      <td>8.86</td>\n",
       "      <td>6.6</td>\n",
       "      <td>7.0</td>\n",
       "      <td>1.78</td>\n",
       "      <td>2.0</td>\n",
       "      <td>1</td>\n",
       "      <td>0</td>\n",
       "      <td>0</td>\n",
       "    </tr>\n",
       "    <tr>\n",
       "      <th>4</th>\n",
       "      <td>75.0</td>\n",
       "      <td>415.0</td>\n",
       "      <td>0.0</td>\n",
       "      <td>166.7</td>\n",
       "      <td>113.0</td>\n",
       "      <td>28.34</td>\n",
       "      <td>148.3</td>\n",
       "      <td>122.0</td>\n",
       "      <td>12.61</td>\n",
       "      <td>186.9</td>\n",
       "      <td>121.0</td>\n",
       "      <td>8.41</td>\n",
       "      <td>10.1</td>\n",
       "      <td>3.0</td>\n",
       "      <td>2.73</td>\n",
       "      <td>3.0</td>\n",
       "      <td>1</td>\n",
       "      <td>0</td>\n",
       "      <td>0</td>\n",
       "    </tr>\n",
       "  </tbody>\n",
       "</table>\n",
       "</div>"
      ],
      "text/plain": [
       "   account length  area code  number vmail messages  total day minutes  \\\n",
       "0           128.0      415.0                   25.0              265.1   \n",
       "1           107.0      415.0                   26.0              161.6   \n",
       "2           137.0      415.0                    0.0              243.4   \n",
       "3           100.0      415.0                    0.0              179.6   \n",
       "4            75.0      415.0                    0.0              166.7   \n",
       "\n",
       "   total day calls  total day charge  total eve minutes  total eve calls  \\\n",
       "0            110.0             45.07              197.4             99.0   \n",
       "1            123.0             27.47              195.5            103.0   \n",
       "2            114.0             41.38              121.2            110.0   \n",
       "3            101.0             30.56              201.0            100.0   \n",
       "4            113.0             28.34              148.3            122.0   \n",
       "\n",
       "   total eve charge  total night minutes  total night calls  \\\n",
       "0             16.78                244.7               91.0   \n",
       "1             16.62                254.4              103.0   \n",
       "2             10.30                162.6              104.0   \n",
       "3             17.09                196.9               89.0   \n",
       "4             12.61                186.9              121.0   \n",
       "\n",
       "   total night charge  total intl minutes  total intl calls  \\\n",
       "0               11.01                10.0               3.0   \n",
       "1               11.45                13.7               3.0   \n",
       "2                7.32                12.2               5.0   \n",
       "3                8.86                 6.6               7.0   \n",
       "4                8.41                10.1               3.0   \n",
       "\n",
       "   total intl charge  number customer service calls  international plan  \\\n",
       "0               2.70                            1.0                   0   \n",
       "1               3.70                            1.0                   0   \n",
       "2               3.29                            0.0                   0   \n",
       "3               1.78                            2.0                   1   \n",
       "4               2.73                            3.0                   1   \n",
       "\n",
       "   voice mail plan  churn  \n",
       "0                1      0  \n",
       "1                1      0  \n",
       "2                0      0  \n",
       "3                0      0  \n",
       "4                0      0  "
      ]
     },
     "execution_count": 13,
     "metadata": {},
     "output_type": "execute_result"
    }
   ],
   "source": [
    "combined.head()"
   ]
  },
  {
   "cell_type": "markdown",
   "metadata": {},
   "source": [
    "## correlation plot"
   ]
  },
  {
   "cell_type": "code",
   "execution_count": 14,
   "metadata": {},
   "outputs": [
    {
     "data": {
      "text/plain": [
       "<matplotlib.axes._subplots.AxesSubplot at 0x8d5f5b5ef0>"
      ]
     },
     "execution_count": 14,
     "metadata": {},
     "output_type": "execute_result"
    },
    {
     "data": {
      "image/png": "[encoded data removed]",
      "text/plain": [
       "<matplotlib.figure.Figure at 0x8d5e917588>"
      ]
     },
     "metadata": {},
     "output_type": "display_data"
    }
   ],
   "source": [
    "df_corr = combined.loc[:,cnames]\n",
    "%matplotlib inline\n",
    "#correlation analysis\n",
    "#set height and width of plot\n",
    "f , ax = plt.subplots(figsize = (15,12))\n",
    "#generate correlation matrix\n",
    "corr = df_corr.corr()\n",
    "#Plot using seaborn library\n",
    "sns.heatmap(corr, mask=np.zeros_like(corr, dtype=np.bool), cmap='rainbow',annot=True,\n",
    "            square=True, ax=ax)\n"
   ]
  },
  {
   "cell_type": "code",
   "execution_count": 15,
   "metadata": {},
   "outputs": [
    {
     "name": "stdout",
     "output_type": "stream",
     "text": [
      "international plan\n",
      "1.9443947474998577e-74\n",
      "voice mail plan\n",
      "7.164501780988496e-15\n"
     ]
    }
   ],
   "source": [
    "cat_names = [\"international plan\",\"voice mail plan\"]\n",
    "\n",
    "#chi square test of independence\n",
    "for i in cat_names:\n",
    "    print(i)\n",
    "    chi2, p, dof, ex = chi2_contingency(pd.crosstab(combined[\"churn\"],combined[i]))\n",
    "    print(p)\n"
   ]
  },
  {
   "cell_type": "code",
   "execution_count": 16,
   "metadata": {},
   "outputs": [
    {
     "name": "stdout",
     "output_type": "stream",
     "text": [
      "<class 'pandas.core.frame.DataFrame'>\n",
      "Int64Index: 5000 entries, 0 to 1666\n",
      "Data columns (total 19 columns):\n",
      "account length                   5000 non-null float64\n",
      "area code                        5000 non-null float64\n",
      "number vmail messages            5000 non-null float64\n",
      "total day minutes                5000 non-null float64\n",
      "total day calls                  5000 non-null float64\n",
      "total day charge                 5000 non-null float64\n",
      "total eve minutes                5000 non-null float64\n",
      "total eve calls                  5000 non-null float64\n",
      "total eve charge                 5000 non-null float64\n",
      "total night minutes              5000 non-null float64\n",
      "total night calls                5000 non-null float64\n",
      "total night charge               5000 non-null float64\n",
      "total intl minutes               5000 non-null float64\n",
      "total intl calls                 5000 non-null float64\n",
      "total intl charge                5000 non-null float64\n",
      "number customer service calls    5000 non-null float64\n",
      "international plan               5000 non-null int8\n",
      "voice mail plan                  5000 non-null int8\n",
      "churn                            5000 non-null int8\n",
      "dtypes: float64(16), int8(3)\n",
      "memory usage: 678.7 KB\n"
     ]
    }
   ],
   "source": [
    "combined.info()"
   ]
  },
  {
   "cell_type": "markdown",
   "metadata": {},
   "source": [
    "## Dimensionality Reduction"
   ]
  },
  {
   "cell_type": "code",
   "execution_count": 17,
   "metadata": {},
   "outputs": [
    {
     "data": {
      "text/plain": [
       "(5000, 15)"
      ]
     },
     "execution_count": 17,
     "metadata": {},
     "output_type": "execute_result"
    }
   ],
   "source": [
    "#dropping unnecessary variables\n",
    "combined = combined.drop([\"total day minutes\", \"total eve minutes\", \"total night minutes\", \"total intl minutes\"], axis = 1)\n",
    "\n",
    "combined.shape\n"
   ]
  },
  {
   "cell_type": "code",
   "execution_count": 18,
   "metadata": {
    "collapsed": true
   },
   "outputs": [],
   "source": [
    "cnames = [\"account length\",\"area code\",\"number vmail messages\",\"total day calls\",\"total day charge\",\n",
    "\"total eve calls\",\"total eve charge\",\"total night calls\",\"total night charge\",\"total intl calls\",\n",
    "\"total intl charge\", \"number customer service calls\"]\n"
   ]
  },
  {
   "cell_type": "markdown",
   "metadata": {},
   "source": [
    "## Normalization"
   ]
  },
  {
   "cell_type": "code",
   "execution_count": 19,
   "metadata": {},
   "outputs": [
    {
     "name": "stdout",
     "output_type": "stream",
     "text": [
      "account length\n",
      "area code\n",
      "number vmail messages\n",
      "total day calls\n",
      "total day charge\n",
      "total eve calls\n",
      "total eve charge\n",
      "total night calls\n",
      "total night charge\n",
      "total intl calls\n",
      "total intl charge\n",
      "number customer service calls\n"
     ]
    },
    {
     "data": {
      "text/html": [
       "<div>\n",
       "<style>\n",
       "    .dataframe thead tr:only-child th {\n",
       "        text-align: right;\n",
       "    }\n",
       "\n",
       "    .dataframe thead th {\n",
       "        text-align: left;\n",
       "    }\n",
       "\n",
       "    .dataframe tbody tr th {\n",
       "        vertical-align: top;\n",
       "    }\n",
       "</style>\n",
       "<table border=\"1\" class=\"dataframe\">\n",
       "  <thead>\n",
       "    <tr style=\"text-align: right;\">\n",
       "      <th></th>\n",
       "      <th>account length</th>\n",
       "      <th>area code</th>\n",
       "      <th>number vmail messages</th>\n",
       "      <th>total day calls</th>\n",
       "      <th>total day charge</th>\n",
       "      <th>total eve calls</th>\n",
       "      <th>total eve charge</th>\n",
       "      <th>total night calls</th>\n",
       "      <th>total night charge</th>\n",
       "      <th>total intl calls</th>\n",
       "      <th>total intl charge</th>\n",
       "      <th>number customer service calls</th>\n",
       "      <th>international plan</th>\n",
       "      <th>voice mail plan</th>\n",
       "      <th>churn</th>\n",
       "    </tr>\n",
       "  </thead>\n",
       "  <tbody>\n",
       "    <tr>\n",
       "      <th>0</th>\n",
       "      <td>0.622549</td>\n",
       "      <td>0.068627</td>\n",
       "      <td>0.50</td>\n",
       "      <td>0.600000</td>\n",
       "      <td>0.794231</td>\n",
       "      <td>0.481132</td>\n",
       "      <td>0.487921</td>\n",
       "      <td>0.424528</td>\n",
       "      <td>0.665289</td>\n",
       "      <td>0.222222</td>\n",
       "      <td>0.478836</td>\n",
       "      <td>0.333333</td>\n",
       "      <td>0</td>\n",
       "      <td>1</td>\n",
       "      <td>0</td>\n",
       "    </tr>\n",
       "    <tr>\n",
       "      <th>1</th>\n",
       "      <td>0.519608</td>\n",
       "      <td>0.068627</td>\n",
       "      <td>0.52</td>\n",
       "      <td>0.723810</td>\n",
       "      <td>0.436726</td>\n",
       "      <td>0.518868</td>\n",
       "      <td>0.481018</td>\n",
       "      <td>0.537736</td>\n",
       "      <td>0.701653</td>\n",
       "      <td>0.222222</td>\n",
       "      <td>0.743386</td>\n",
       "      <td>0.333333</td>\n",
       "      <td>0</td>\n",
       "      <td>1</td>\n",
       "      <td>0</td>\n",
       "    </tr>\n",
       "    <tr>\n",
       "      <th>2</th>\n",
       "      <td>0.666667</td>\n",
       "      <td>0.068627</td>\n",
       "      <td>0.00</td>\n",
       "      <td>0.638095</td>\n",
       "      <td>0.719277</td>\n",
       "      <td>0.584906</td>\n",
       "      <td>0.208369</td>\n",
       "      <td>0.547170</td>\n",
       "      <td>0.360331</td>\n",
       "      <td>0.444444</td>\n",
       "      <td>0.634921</td>\n",
       "      <td>0.000000</td>\n",
       "      <td>0</td>\n",
       "      <td>0</td>\n",
       "      <td>0</td>\n",
       "    </tr>\n",
       "    <tr>\n",
       "      <th>3</th>\n",
       "      <td>0.485294</td>\n",
       "      <td>0.068627</td>\n",
       "      <td>0.00</td>\n",
       "      <td>0.514286</td>\n",
       "      <td>0.499492</td>\n",
       "      <td>0.490566</td>\n",
       "      <td>0.501294</td>\n",
       "      <td>0.405660</td>\n",
       "      <td>0.487603</td>\n",
       "      <td>0.666667</td>\n",
       "      <td>0.235450</td>\n",
       "      <td>0.666667</td>\n",
       "      <td>1</td>\n",
       "      <td>0</td>\n",
       "      <td>0</td>\n",
       "    </tr>\n",
       "    <tr>\n",
       "      <th>4</th>\n",
       "      <td>0.362745</td>\n",
       "      <td>0.068627</td>\n",
       "      <td>0.00</td>\n",
       "      <td>0.628571</td>\n",
       "      <td>0.454398</td>\n",
       "      <td>0.698113</td>\n",
       "      <td>0.308024</td>\n",
       "      <td>0.707547</td>\n",
       "      <td>0.450413</td>\n",
       "      <td>0.222222</td>\n",
       "      <td>0.486772</td>\n",
       "      <td>1.000000</td>\n",
       "      <td>1</td>\n",
       "      <td>0</td>\n",
       "      <td>0</td>\n",
       "    </tr>\n",
       "    <tr>\n",
       "      <th>5</th>\n",
       "      <td>0.573529</td>\n",
       "      <td>1.000000</td>\n",
       "      <td>0.00</td>\n",
       "      <td>0.485714</td>\n",
       "      <td>0.650213</td>\n",
       "      <td>0.500000</td>\n",
       "      <td>0.572908</td>\n",
       "      <td>0.679245</td>\n",
       "      <td>0.514050</td>\n",
       "      <td>0.555556</td>\n",
       "      <td>0.214286</td>\n",
       "      <td>0.000000</td>\n",
       "      <td>1</td>\n",
       "      <td>0</td>\n",
       "      <td>0</td>\n",
       "    </tr>\n",
       "    <tr>\n",
       "      <th>6</th>\n",
       "      <td>0.485294</td>\n",
       "      <td>0.068627</td>\n",
       "      <td>0.00</td>\n",
       "      <td>0.514286</td>\n",
       "      <td>0.499492</td>\n",
       "      <td>0.490566</td>\n",
       "      <td>0.501294</td>\n",
       "      <td>0.679245</td>\n",
       "      <td>0.546281</td>\n",
       "      <td>0.666667</td>\n",
       "      <td>0.301587</td>\n",
       "      <td>1.000000</td>\n",
       "      <td>0</td>\n",
       "      <td>1</td>\n",
       "      <td>0</td>\n",
       "    </tr>\n",
       "    <tr>\n",
       "      <th>7</th>\n",
       "      <td>0.715686</td>\n",
       "      <td>0.068627</td>\n",
       "      <td>0.00</td>\n",
       "      <td>0.304762</td>\n",
       "      <td>0.420882</td>\n",
       "      <td>0.433962</td>\n",
       "      <td>0.141933</td>\n",
       "      <td>0.471698</td>\n",
       "      <td>0.542975</td>\n",
       "      <td>0.555556</td>\n",
       "      <td>0.272487</td>\n",
       "      <td>0.000000</td>\n",
       "      <td>1</td>\n",
       "      <td>0</td>\n",
       "      <td>0</td>\n",
       "    </tr>\n",
       "    <tr>\n",
       "      <th>8</th>\n",
       "      <td>0.485294</td>\n",
       "      <td>0.068627</td>\n",
       "      <td>0.00</td>\n",
       "      <td>0.514286</td>\n",
       "      <td>0.499492</td>\n",
       "      <td>0.490566</td>\n",
       "      <td>0.501294</td>\n",
       "      <td>0.415094</td>\n",
       "      <td>0.557851</td>\n",
       "      <td>0.333333</td>\n",
       "      <td>0.386243</td>\n",
       "      <td>0.333333</td>\n",
       "      <td>0</td>\n",
       "      <td>0</td>\n",
       "      <td>0</td>\n",
       "    </tr>\n",
       "    <tr>\n",
       "      <th>9</th>\n",
       "      <td>0.686275</td>\n",
       "      <td>0.068627</td>\n",
       "      <td>0.74</td>\n",
       "      <td>0.352381</td>\n",
       "      <td>0.771684</td>\n",
       "      <td>0.594340</td>\n",
       "      <td>0.578085</td>\n",
       "      <td>0.481132</td>\n",
       "      <td>0.969421</td>\n",
       "      <td>0.444444</td>\n",
       "      <td>0.563492</td>\n",
       "      <td>0.000000</td>\n",
       "      <td>1</td>\n",
       "      <td>1</td>\n",
       "      <td>0</td>\n",
       "    </tr>\n",
       "  </tbody>\n",
       "</table>\n",
       "</div>"
      ],
      "text/plain": [
       "   account length  area code  number vmail messages  total day calls  \\\n",
       "0        0.622549   0.068627                   0.50         0.600000   \n",
       "1        0.519608   0.068627                   0.52         0.723810   \n",
       "2        0.666667   0.068627                   0.00         0.638095   \n",
       "3        0.485294   0.068627                   0.00         0.514286   \n",
       "4        0.362745   0.068627                   0.00         0.628571   \n",
       "5        0.573529   1.000000                   0.00         0.485714   \n",
       "6        0.485294   0.068627                   0.00         0.514286   \n",
       "7        0.715686   0.068627                   0.00         0.304762   \n",
       "8        0.485294   0.068627                   0.00         0.514286   \n",
       "9        0.686275   0.068627                   0.74         0.352381   \n",
       "\n",
       "   total day charge  total eve calls  total eve charge  total night calls  \\\n",
       "0          0.794231         0.481132          0.487921           0.424528   \n",
       "1          0.436726         0.518868          0.481018           0.537736   \n",
       "2          0.719277         0.584906          0.208369           0.547170   \n",
       "3          0.499492         0.490566          0.501294           0.405660   \n",
       "4          0.454398         0.698113          0.308024           0.707547   \n",
       "5          0.650213         0.500000          0.572908           0.679245   \n",
       "6          0.499492         0.490566          0.501294           0.679245   \n",
       "7          0.420882         0.433962          0.141933           0.471698   \n",
       "8          0.499492         0.490566          0.501294           0.415094   \n",
       "9          0.771684         0.594340          0.578085           0.481132   \n",
       "\n",
       "   total night charge  total intl calls  total intl charge  \\\n",
       "0            0.665289          0.222222           0.478836   \n",
       "1            0.701653          0.222222           0.743386   \n",
       "2            0.360331          0.444444           0.634921   \n",
       "3            0.487603          0.666667           0.235450   \n",
       "4            0.450413          0.222222           0.486772   \n",
       "5            0.514050          0.555556           0.214286   \n",
       "6            0.546281          0.666667           0.301587   \n",
       "7            0.542975          0.555556           0.272487   \n",
       "8            0.557851          0.333333           0.386243   \n",
       "9            0.969421          0.444444           0.563492   \n",
       "\n",
       "   number customer service calls  international plan  voice mail plan  churn  \n",
       "0                       0.333333                   0                1      0  \n",
       "1                       0.333333                   0                1      0  \n",
       "2                       0.000000                   0                0      0  \n",
       "3                       0.666667                   1                0      0  \n",
       "4                       1.000000                   1                0      0  \n",
       "5                       0.000000                   1                0      0  \n",
       "6                       1.000000                   0                1      0  \n",
       "7                       0.000000                   1                0      0  \n",
       "8                       0.333333                   0                0      0  \n",
       "9                       0.000000                   1                1      0  "
      ]
     },
     "execution_count": 19,
     "metadata": {},
     "output_type": "execute_result"
    }
   ],
   "source": [
    "#normalization\n",
    "for i in cnames:\n",
    "    print(i)\n",
    "    combined[i] = (combined[i]-min(combined[i]))/(max(combined[i])-min(combined[i]))\n",
    "\n",
    "combined.head(10)\n"
   ]
  },
  {
   "cell_type": "code",
   "execution_count": 20,
   "metadata": {},
   "outputs": [
    {
     "name": "stderr",
     "output_type": "stream",
     "text": [
      "C:\\Users\\HP\\it\\lib\\site-packages\\sklearn\\cross_validation.py:44: DeprecationWarning: This module was deprecated in version 0.18 in favor of the model_selection module into which all the refactored classes and functions are moved. Also note that the interface of the new CV iterators are different from that of this module. This module will be removed in 0.20.\n",
      "  \"This module will be removed in 0.20.\", DeprecationWarning)\n"
     ]
    }
   ],
   "source": [
    "#loading libraries for model\n",
    "from sklearn import tree\n",
    "from sklearn.metrics import accuracy_score\n",
    "from sklearn.cross_validation import train_test_split\n",
    "from sklearn.model_selection import cross_val_score\n",
    "#splitting combined data to train and test\n",
    "train = combined[:3333]\n",
    "\n",
    "test = combined[3333:]"
   ]
  },
  {
   "cell_type": "code",
   "execution_count": 21,
   "metadata": {},
   "outputs": [],
   "source": [
    "features=[\"account length\",\"area code\",\"number vmail messages\",\"total day calls\",\"total day charge\",\n",
    "\"total eve calls\",\"total eve charge\",\"total night calls\",\"total night charge\",\"total intl calls\", \"total intl charge\",\n",
    "\"number customer service calls\",\"international plan\",\"voice mail plan\"]\n"
   ]
  },
  {
   "cell_type": "code",
   "execution_count": 22,
   "metadata": {},
   "outputs": [],
   "source": [
    "X=combined[features]"
   ]
  },
  {
   "cell_type": "code",
   "execution_count": 23,
   "metadata": {
    "collapsed": true
   },
   "outputs": [],
   "source": [
    "y=combined.churn"
   ]
  },
  {
   "cell_type": "markdown",
   "metadata": {},
   "source": [
    "## Decision Tree model"
   ]
  },
  {
   "cell_type": "code",
   "execution_count": 24,
   "metadata": {},
   "outputs": [
    {
     "data": {
      "text/plain": [
       "100.0"
      ]
     },
     "execution_count": 24,
     "metadata": {},
     "output_type": "execute_result"
    }
   ],
   "source": [
    "#decision tree model\n",
    "c50_model = tree.DecisionTreeClassifier(criterion = 'entropy').fit(train, train_targets)\n",
    "c50_pred = c50_model.predict(test)\n",
    "\n",
    "c50_pred\n",
    "\n",
    "#dot file to look at decision tree\n",
    "dotfile = open(\"pt.dot\", 'w')\n",
    "df = tree.export_graphviz(c50_model, out_file=dotfile, feature_names = train.columns)\n",
    "\n",
    "#testing accuracy of model\n",
    "from sklearn.metrics import confusion_matrix\n",
    "CM = pd.crosstab(test_targets, c50_pred)\n",
    "CM\n",
    "\n",
    "TN = CM.iloc[0,0]\n",
    "FN = CM.iloc[1,0]\n",
    "TP = CM.iloc[1,1]\n",
    "FP = CM.iloc[0,1]\n",
    "accuracy_score(test_targets,c50_pred)*100\n",
    "#accuracy = 92.32153\n",
    "#(FN*100)/(FN+TP)\n",
    "#FNR = 32.142857\n",
    "#(TP*100)/(TP+FN)\n",
    "#Recall = 67.8571428"
   ]
  },
  {
   "cell_type": "markdown",
   "metadata": {},
   "source": [
    "## Cross Validation"
   ]
  },
  {
   "cell_type": "code",
   "execution_count": 25,
   "metadata": {},
   "outputs": [
    {
     "name": "stdout",
     "output_type": "stream",
     "text": [
      "0.8862005088020352\n"
     ]
    }
   ],
   "source": [
    "# 10-fold cross-validation with logistic regression\n",
    "print(cross_val_score(c50_model, X, y, cv=10, scoring='accuracy').mean())"
   ]
  },
  {
   "cell_type": "code",
   "execution_count": 26,
   "metadata": {},
   "outputs": [
    {
     "data": {
      "text/plain": [
       "100.0"
      ]
     },
     "execution_count": 26,
     "metadata": {},
     "output_type": "execute_result"
    }
   ],
   "source": [
    "accuracy_score(test_targets,c50_pred)*100"
   ]
  },
  {
   "cell_type": "code",
   "execution_count": 27,
   "metadata": {
    "collapsed": true
   },
   "outputs": [],
   "source": [
    "from sklearn.model_selection import cross_val_score"
   ]
  },
  {
   "cell_type": "markdown",
   "metadata": {},
   "source": [
    "## Random Forest model"
   ]
  },
  {
   "cell_type": "code",
   "execution_count": 28,
   "metadata": {},
   "outputs": [
    {
     "data": {
      "text/plain": [
       "100.0"
      ]
     },
     "execution_count": 28,
     "metadata": {},
     "output_type": "execute_result"
    }
   ],
   "source": [
    "#random forest model\n",
    "from sklearn.ensemble import RandomForestClassifier\n",
    "RF_model = RandomForestClassifier(n_estimators = 100).fit(train,train_targets)\n",
    "RF_prediction = RF_model.predict(test)\n",
    "\n",
    "\n",
    "RF_prediction\n",
    "\n",
    "CM = pd.crosstab(test_targets, RF_prediction)\n",
    "CM\n",
    "\n",
    "#let us save TP, TN, FP, FN\n",
    "TN = CM.iloc[0,0]\n",
    "FN = CM.iloc[1,0]\n",
    "TP = CM.iloc[1,1]\n",
    "FP = CM.iloc[0,1]\n",
    "#check accuracy of model\n",
    "accuracy_score(test_targets, RF_prediction)*100\n",
    "#((TP+TN)*100)/(TP+TN+FP+FN)\n",
    "#accuracy = 94.96100\n",
    "#(FN*100)/(FN+TP)\n",
    "#FNR = 33.928571\n",
    "\n"
   ]
  },
  {
   "cell_type": "code",
   "execution_count": 29,
   "metadata": {},
   "outputs": [
    {
     "name": "stdout",
     "output_type": "stream",
     "text": [
      "[0.90219561 0.90818363 0.89620758 0.934      0.924      0.924\n",
      " 0.912      0.89779559 0.9238477  0.93186373]\n"
     ]
    }
   ],
   "source": [
    "# 10-fold cross-validation with K=5 for KNN (the n_neighbors parameter)\n",
    "scores = cross_val_score(RF_model, X, y, cv=10, scoring='accuracy')\n",
    "print(scores)"
   ]
  },
  {
   "cell_type": "markdown",
   "metadata": {},
   "source": [
    "## KNN Model"
   ]
  },
  {
   "cell_type": "code",
   "execution_count": null,
   "metadata": {},
   "outputs": [],
   "source": [
    "#KNN implementation\n",
    "from sklearn.neighbors import KNeighborsClassifier\n",
    "KNN_model = KNeighborsClassifier(n_neighbors = 9).fit(train, train_targets)\n",
    "\n",
    "#predict test cases\n",
    "KNN_Predictions = KNN_model.predict(test)\n",
    "\n",
    "#build confusion matrix\n",
    "CM = pd.crosstab(test_targets, KNN_Predictions)\n",
    "CM\n",
    "\n",
    "#let us save TP, TN, FP, FN\n",
    "TN = CM.iloc[0,0]\n",
    "FN = CM.iloc[1,0]\n",
    "TP = CM.iloc[1,1]\n",
    "FP = CM.iloc[0,1]\n",
    "#check accuracy of model\n",
    "#accuracy_score(y_test, y_pred)*100\n",
    "((TP+TN)*100)/(TP+TN+FP+FN)\n",
    "#accuracy = 86.622675\n",
    "#False Negative rate\n",
    "#(FN*100)/(FN+TP)\n",
    "#FNR =97.321428\n",
    "\n",
    "\n"
   ]
  },
  {
   "cell_type": "code",
   "execution_count": 31,
   "metadata": {},
   "outputs": [],
   "source": [
    "from sklearn.model_selection import cross_val_score"
   ]
  },
  {
   "cell_type": "code",
   "execution_count": 32,
   "metadata": {},
   "outputs": [
    {
     "name": "stdout",
     "output_type": "stream",
     "text": [
      "[0.86626747 0.86626747 0.85828343 0.862      0.876      0.878\n",
      " 0.86       0.85370741 0.86172345 0.86973948]\n"
     ]
    }
   ],
   "source": [
    "# 10-fold cross-validation with K=5 for KNN (the n_neighbors parameter)\n",
    "scores = cross_val_score(KNN_model, X, y, cv=10, scoring='accuracy')\n",
    "print(scores)"
   ]
  },
  {
   "cell_type": "markdown",
   "metadata": {},
   "source": [
    "## Naive Bayes"
   ]
  },
  {
   "cell_type": "code",
   "execution_count": 33,
   "metadata": {
    "collapsed": true
   },
   "outputs": [],
   "source": [
    "#Naive Bayes\n",
    "from sklearn.naive_bayes import GaussianNB\n",
    "#Naive Bayes implementation\n",
    "NB_model = GaussianNB().fit(train, train_targets)\n",
    "\n",
    "#predict test cases\n",
    "NB_Predictions = NB_model.predict(test)\n",
    "\n",
    "#Build confusion matrix\n",
    "CM = pd.crosstab(test_targets, NB_Predictions)\n",
    "CM\n",
    "\n",
    "#let us save TP, TN, FP, FN\n",
    "TN = CM.iloc[0,0]\n",
    "FN = CM.iloc[1,0]\n",
    "TP = CM.iloc[1,1]\n",
    "FP = CM.iloc[0,1]\n",
    "#check accuracy of model\n",
    "#accuracy_score(Y_test, y_pred)*100\n",
    "((TP+TN)*100)/(TP+TN+FP+FN)\n",
    "#Accuracy = 85.842831433\n",
    "#False Negative rate\n",
    "#(FN*100)/(FN+TP)\n",
    "#FNR = 60.2678571\n",
    "\n",
    "#we will be fixing random forest model as it provides best results\n",
    "#now we will generate example out for out sample input test data with Random forest predictions\n",
    "move = pd.DataFrame(RF_prediction)\n",
    "move = move.rename(columns = {0:'move'})\n",
    "\n",
    "test = test.join(move['move'])\n",
    "\n",
    "test.to_csv(\"example_output.csv\", index = False)"
   ]
  },
  {
   "cell_type": "code",
   "execution_count": null,
   "metadata": {
    "collapsed": true
   },
   "outputs": [],
   "source": [
    " # 10-fold cross-validation with K=5 for KNN (the n_neighbors parameter)\n",
    "scores = cross_val_score(NB_model, X, y, cv=10, scoring='accuracy')\n",
    "print(scores)"
   ]
  }
 ],
 "metadata": {
  "kernelspec": {
   "display_name": "Python 3",
   "language": "python",
   "name": "python3"
  },
  "language_info": {
   "codemirror_mode": {
    "name": "ipython",
    "version": 3
   },
   "file_extension": ".py",
   "mimetype": "text/x-python",
   "name": "python",
   "nbconvert_exporter": "python",
   "pygments_lexer": "ipython3",
   "version": "3.6.1"
  }
 },
 "nbformat": 4,
 "nbformat_minor": 2
}
